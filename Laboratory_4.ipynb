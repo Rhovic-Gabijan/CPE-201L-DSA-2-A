{
  "nbformat": 4,
  "nbformat_minor": 0,
  "metadata": {
    "colab": {
      "provenance": [],
      "authorship_tag": "ABX9TyOnXuUXwGKM5+gFKXoVVq3d",
      "include_colab_link": true
    },
    "kernelspec": {
      "name": "python3",
      "display_name": "Python 3"
    },
    "language_info": {
      "name": "python"
    }
  },
  "cells": [
    {
      "cell_type": "markdown",
      "metadata": {
        "id": "view-in-github",
        "colab_type": "text"
      },
      "source": [
        "<a href=\"https://colab.research.google.com/github/Rhovic-Gabijan/CPE-201L-DSA-2-A/blob/main/Laboratory_4.ipynb\" target=\"_parent\"><img src=\"https://colab.research.google.com/assets/colab-badge.svg\" alt=\"Open In Colab\"/></a>"
      ]
    },
    {
      "cell_type": "code",
      "execution_count": 3,
      "metadata": {
        "colab": {
          "base_uri": "https://localhost:8080/"
        },
        "id": "bdprpOwXk7Lc",
        "outputId": "dc81f21f-380c-45df-ea44-9f0d4fe071e2"
      },
      "outputs": [
        {
          "output_type": "stream",
          "name": "stdout",
          "text": [
            "Apple created.\n",
            "Banana created.\n",
            "Broccoli created.\n",
            "Lettuce created.\n",
            "Deleted Banana\n",
            "Deleted Apple\n",
            "\n",
            "===== Jenna's Grocery List =====\n",
            "Deleted Broccoli\n",
            "Apple      PHP10 x 7 = PHP70\n",
            "Banana     PHP10 x 8 = PHP80\n",
            "Broccoli   PHP60 x 12 = PHP720\n",
            "Lettuce    PHP50 x 10 = PHP500\n",
            "\n",
            "Total Sum = PHP 1370\n",
            "\n",
            "Deleting Lettuce...\n",
            "\n",
            "===== Updated Grocery List =====\n",
            "Lettuce destroyed.\n",
            "Apple      PHP10 x 7 = PHP70\n",
            "Banana     PHP10 x 8 = PHP80\n",
            "Broccoli   PHP60 x 12 = PHP720\n",
            "\n",
            "Updated Total Sum = PHP870\n"
          ]
        }
      ],
      "source": [
        "import copy\n",
        "\n",
        "class GroceryItem:\n",
        "    def __init__(self, name, price, quantity):\n",
        "        self.name = name\n",
        "        self.price = price\n",
        "        self.quantity = quantity\n",
        "        print(f\"{self.name} created.\")\n",
        "\n",
        "    def __del__(self):\n",
        "        print(f\"{self.name} destroyed.\")\n",
        "\n",
        "    def __copy__(self):\n",
        "        new_obj = type(self)(self.name, self.price, self.quantity)\n",
        "        print(f\"{self.name} copied.\")\n",
        "        return new_obj\n",
        "\n",
        "    def __deepcopy__(self, memo):\n",
        "        new_obj = type(self)(self.name, self.price, self.quantity)\n",
        "        print(f\"{self.name} assigned.\")\n",
        "        return new_obj\n",
        "\n",
        "    def calculate_sum(self):\n",
        "        return self.price * self.quantity\n",
        "\n",
        "    def display(self):\n",
        "        print(f\"{self.name:10} PHP {self.price} x {self.quantity} = PHP {self.calculate_sum()}\")\n",
        "\n",
        "class Fruit(GroceryItem):\n",
        "    pass\n",
        "\n",
        "class Vegetable(GroceryItem):\n",
        "    pass\n",
        "\n",
        "def TotalSum(grocery_list):\n",
        "    return sum(item.calculate_sum() for item in grocery_list)\n",
        "\n",
        "if __name__ == \"__main__\":\n",
        "    # Problem 1 & 2: Create Grocery Items\n",
        "    GroceryList = [\n",
        "        Fruit(\"Apple\", 10, 7),\n",
        "        Fruit(\"Banana\", 10, 8),\n",
        "        Vegetable(\"Broccoli\", 60, 12),\n",
        "        Vegetable(\"Lettuce\", 50, 10)\n",
        "    ]\n",
        "\n",
        "    print(\"\\n===== Jenna's Grocery List =====\")\n",
        "    for item in GroceryList:\n",
        "        item.display()\n",
        "\n",
        "    # Problem 3: Total Sum\n",
        "    print(f\"\\nTotal Sum = PHP {TotalSum(GroceryList)}\")\n",
        "\n",
        "    # Problem 4: Delete Lettuce\n",
        "    print(\"\\nDeleting Lettuce...\")\n",
        "    GroceryList = [item for item in GroceryList if item.name != \"Lettuce\"]\n",
        "\n",
        "    print(\"\\n===== Updated Grocery List =====\")\n",
        "    for item in GroceryList:\n",
        "        item.display()\n",
        "\n",
        "    print(f\"\\nUpdated Total Sum = PHP {TotalSum(GroceryList)}\")"
      ]
    }
  ]
}