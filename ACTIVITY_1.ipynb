{
  "nbformat": 4,
  "nbformat_minor": 0,
  "metadata": {
    "colab": {
      "provenance": [],
      "authorship_tag": "ABX9TyMVOOn5DQw3FKKUjxmrTsi6",
      "include_colab_link": true
    },
    "kernelspec": {
      "name": "python3",
      "display_name": "Python 3"
    },
    "language_info": {
      "name": "python"
    }
  },
  "cells": [
    {
      "cell_type": "markdown",
      "metadata": {
        "id": "view-in-github",
        "colab_type": "text"
      },
      "source": [
        "<a href=\"https://colab.research.google.com/github/Rhovic-Gabijan/CPE-201L-DSA-2-A/blob/main/ACTIVITY_1.ipynb\" target=\"_parent\"><img src=\"https://colab.research.google.com/assets/colab-badge.svg\" alt=\"Open In Colab\"/></a>"
      ]
    },
    {
      "cell_type": "code",
      "source": [
        "import math\n",
        "print(\"\"\"\n",
        " ________________\n",
        "|   Pick Number  |\n",
        "|   1. Radius    |\n",
        "|   2. Diameter  |\n",
        "|________________|\"\"\")\n",
        "\n",
        "pinili = float((input(\"Choose: \")))\n",
        "\n",
        "\n",
        "if pinili == 1:\n",
        "  r = float(input(\"Enter Radius:\"))\n",
        "  A = math.pi*r**2\n",
        "\n",
        "elif pinili == 2:\n",
        "  d = float(input(\"Enter Diameter: \"))\n",
        "  A = math.pi*(d/2)**2\n",
        "\n",
        "else:\n",
        "  print(\"Invalid Input\")\n",
        "\n",
        "print(\"Area of Circle: \", A)"
      ],
      "metadata": {
        "colab": {
          "base_uri": "https://localhost:8080/"
        },
        "id": "ttbLtSeK3_I_",
        "outputId": "29f2cb43-ad55-45d0-c68c-e88e3ec95f32"
      },
      "execution_count": null,
      "outputs": [
        {
          "output_type": "stream",
          "name": "stdout",
          "text": [
            "\n",
            " ________________\n",
            "|   Pick Number  |\n",
            "|   1. Radius    |\n",
            "|   2. Diameter  |\n",
            "|________________|\n",
            "Choose: 2\n",
            "Enter Diameter: 4\n",
            "Area of Circle:  12.566370614359172\n"
          ]
        }
      ]
    }
  ]
}