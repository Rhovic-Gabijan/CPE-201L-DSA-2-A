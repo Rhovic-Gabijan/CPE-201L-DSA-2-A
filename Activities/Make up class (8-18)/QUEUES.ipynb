{
  "nbformat": 4,
  "nbformat_minor": 0,
  "metadata": {
    "colab": {
      "provenance": [],
      "authorship_tag": "ABX9TyOY+3U1DEOyT96pSRrkd9cQ",
      "include_colab_link": true
    },
    "kernelspec": {
      "name": "python3",
      "display_name": "Python 3"
    },
    "language_info": {
      "name": "python"
    }
  },
  "cells": [
    {
      "cell_type": "markdown",
      "metadata": {
        "id": "view-in-github",
        "colab_type": "text"
      },
      "source": [
        "<a href=\"https://colab.research.google.com/github/Rhovic-Gabijan/CPE-201L-DSA-2-A/blob/main/QUEUES.ipynb\" target=\"_parent\"><img src=\"https://colab.research.google.com/assets/colab-badge.svg\" alt=\"Open In Colab\"/></a>"
      ]
    },
    {
      "cell_type": "code",
      "source": [
        "queue = []\n",
        "#enqueue items into queue\n",
        "queue.append('A')\n",
        "queue.append('B')\n",
        "queue.append('C')\n",
        "print(queue)\n",
        "\n",
        "#dequeue items from the queue\n",
        "print(queue.pop(0))\n",
        "print(queue.pop(0))\n",
        "print(queue.pop(0))\n",
        "print(queue)\n",
        "\n",
        "#def empty_queue:\n",
        "#def full_queue:\n",
        "#def Head_queue:\n",
        "#def Tail_queue"
      ],
      "metadata": {
        "colab": {
          "base_uri": "https://localhost:8080/"
        },
        "id": "j5mIAIE4fnCa",
        "outputId": "96956e8d-826e-403c-e43e-27a6c384b3e4"
      },
      "execution_count": 1,
      "outputs": [
        {
          "output_type": "stream",
          "name": "stdout",
          "text": [
            "['A', 'B', 'C']\n",
            "A\n",
            "B\n",
            "C\n",
            "[]\n"
          ]
        }
      ]
    },
    {
      "cell_type": "code",
      "source": [
        "class Queue:\n",
        "    def __init__(self):\n",
        "        self.queue = []\n",
        "\n",
        "    def enqueue(self, dataval):\n",
        "        # Use list append method to add element\n",
        "        if dataval not in self.queue:\n",
        "            self.queue.append(dataval)\n",
        "            return True\n",
        "        else:\n",
        "            return False\n",
        "\n",
        "    def dequeue(self):\n",
        "        # Remove and return the top element (last in first out)\n",
        "        if len(self.queue) <= 0:\n",
        "            return \"Queue is empty\"\n",
        "        else:\n",
        "            return reversed(self.queue.pop(0))\n",
        "\n",
        "    def display(self):\n",
        "        print(self.queue)\n",
        "\n",
        "    def retrieve(self):\n",
        "      for item in reversed(self.queue):\n",
        "        print(item)\n",
        "\n",
        "    def empty_queue(self):\n",
        "        if len(self.queue) <= 0:\n",
        "            return True\n",
        "        else:\n",
        "            return False\n",
        "\n",
        "    def head_queue(self):\n",
        "        if len(self.queue) <= 0:\n",
        "            return \"Queue is empty\"\n",
        "        else:\n",
        "            return self.queue[0]\n",
        "\n",
        "    def tail_queue(self):\n",
        "        if len(self.queue) <= 0:\n",
        "            return \"Queue in empty\"\n",
        "        else:\n",
        "            return self.queue[-1]\n",
        "\n",
        "    #def full_queue(self):\n",
        "      #if len(self.queue) >= 7:\n",
        "        #return True\n",
        "      #else:\n",
        "        #return False\n",
        "\n",
        "    #def full_queue(self)\n",
        "    #def top_element:\n",
        "    #def head_queue:\n",
        "    #def tail_queue:\n",
        "\n",
        "AQueue = Queue()\n",
        "AQueue.enqueue(\"Sun\")\n",
        "AQueue.enqueue(\"Mon\")\n",
        "AQueue.enqueue(\"Tue\")\n",
        "AQueue.enqueue(\"Wed\")\n",
        "AQueue.enqueue(\"Thu\")\n",
        "AQueue.enqueue(\"Fri\")\n",
        "AQueue.enqueue(\"Sat\")\n",
        "AQueue.dequeue()\n",
        "\n",
        "AQueue.display()\n",
        "\n",
        "\n",
        "AQueue.retrieve()\n",
        "\n",
        "AQueue.empty_queue()\n",
        "AQueue.head_queue()"
      ],
      "metadata": {
        "colab": {
          "base_uri": "https://localhost:8080/",
          "height": 157
        },
        "id": "NSn-GAYTf_j-",
        "outputId": "c0b4e1fd-bbe6-472d-af76-f9d9a7f220c4"
      },
      "execution_count": 2,
      "outputs": [
        {
          "output_type": "stream",
          "name": "stdout",
          "text": [
            "['Mon', 'Tue', 'Wed', 'Thu', 'Fri', 'Sat']\n",
            "Sat\n",
            "Fri\n",
            "Thu\n",
            "Wed\n",
            "Tue\n",
            "Mon\n"
          ]
        },
        {
          "output_type": "execute_result",
          "data": {
            "text/plain": [
              "'Mon'"
            ],
            "application/vnd.google.colaboratory.intrinsic+json": {
              "type": "string"
            }
          },
          "metadata": {},
          "execution_count": 2
        }
      ]
    }
  ]
}